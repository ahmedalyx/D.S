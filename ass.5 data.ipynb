{
 "cells": [
  {
   "cell_type": "code",
   "execution_count": 7,
   "metadata": {},
   "outputs": [],
   "source": [
    "import pandas as pd\n",
    "import numpy as np\n",
    "import matplotlib.pyplot as plt\n",
    "import seaborn as sns\n",
    "from scipy import stats"
   ]
  },
  {
   "cell_type": "markdown",
   "metadata": {},
   "source": [
    "# Assignment 5"
   ]
  },
  {
   "cell_type": "code",
   "execution_count": 8,
   "metadata": {},
   "outputs": [
    {
     "data": {
      "text/html": [
       "<div>\n",
       "<style scoped>\n",
       "    .dataframe tbody tr th:only-of-type {\n",
       "        vertical-align: middle;\n",
       "    }\n",
       "\n",
       "    .dataframe tbody tr th {\n",
       "        vertical-align: top;\n",
       "    }\n",
       "\n",
       "    .dataframe thead th {\n",
       "        text-align: right;\n",
       "    }\n",
       "</style>\n",
       "<table border=\"1\" class=\"dataframe\">\n",
       "  <thead>\n",
       "    <tr style=\"text-align: right;\">\n",
       "      <th></th>\n",
       "      <th>Substance</th>\n",
       "      <th>Formula</th>\n",
       "      <th>Molecular weight</th>\n",
       "      <th>Temp. [R]</th>\n",
       "      <th>Pressure [Psi]</th>\n",
       "      <th>Volume [ft3/lbm]</th>\n",
       "    </tr>\n",
       "  </thead>\n",
       "  <tbody>\n",
       "    <tr>\n",
       "      <th>0</th>\n",
       "      <td>Ammonia</td>\n",
       "      <td>NH3</td>\n",
       "      <td>17.031</td>\n",
       "      <td>729.9</td>\n",
       "      <td>1646.0</td>\n",
       "      <td>0.0682</td>\n",
       "    </tr>\n",
       "    <tr>\n",
       "      <th>1</th>\n",
       "      <td>Argon</td>\n",
       "      <td>Ar</td>\n",
       "      <td>39.948</td>\n",
       "      <td>271.4</td>\n",
       "      <td>706.0</td>\n",
       "      <td>0.0300</td>\n",
       "    </tr>\n",
       "    <tr>\n",
       "      <th>2</th>\n",
       "      <td>Bromine</td>\n",
       "      <td>Br2</td>\n",
       "      <td>159.808</td>\n",
       "      <td>1058.4</td>\n",
       "      <td>1494.0</td>\n",
       "      <td>0.0127</td>\n",
       "    </tr>\n",
       "    <tr>\n",
       "      <th>3</th>\n",
       "      <td>Carbon dioxide</td>\n",
       "      <td>CO2</td>\n",
       "      <td>44.010</td>\n",
       "      <td>547.4</td>\n",
       "      <td>1070.0</td>\n",
       "      <td>0.0342</td>\n",
       "    </tr>\n",
       "    <tr>\n",
       "      <th>4</th>\n",
       "      <td>Carbon monoxide</td>\n",
       "      <td>CO</td>\n",
       "      <td>28.010</td>\n",
       "      <td>239.2</td>\n",
       "      <td>508.0</td>\n",
       "      <td>0.0533</td>\n",
       "    </tr>\n",
       "  </tbody>\n",
       "</table>\n",
       "</div>"
      ],
      "text/plain": [
       "          Substance Formula  Molecular weight  Temp. [R]  Pressure [Psi]  \\\n",
       "0          Ammonia     NH3             17.031      729.9          1646.0   \n",
       "1            Argon      Ar             39.948      271.4           706.0   \n",
       "2          Bromine     Br2            159.808     1058.4          1494.0   \n",
       "3   Carbon dioxide     CO2             44.010      547.4          1070.0   \n",
       "4  Carbon monoxide      CO             28.010      239.2           508.0   \n",
       "\n",
       "   Volume [ft3/lbm]  \n",
       "0            0.0682  \n",
       "1            0.0300  \n",
       "2            0.0127  \n",
       "3            0.0342  \n",
       "4            0.0533  "
      ]
     },
     "execution_count": 8,
     "metadata": {},
     "output_type": "execute_result"
    }
   ],
   "source": [
    "df = pd.read_csv('Thermodynamics Data set.csv')\n",
    "df.head()"
   ]
  },
  {
   "cell_type": "code",
   "execution_count": 9,
   "metadata": {},
   "outputs": [
    {
     "name": "stdout",
     "output_type": "stream",
     "text": [
      "<class 'pandas.core.frame.DataFrame'>\n",
      "RangeIndex: 42 entries, 0 to 41\n",
      "Data columns (total 6 columns):\n",
      " #   Column            Non-Null Count  Dtype  \n",
      "---  ------            --------------  -----  \n",
      " 0   Substance         42 non-null     object \n",
      " 1   Formula           42 non-null     object \n",
      " 2   Molecular weight  42 non-null     float64\n",
      " 3   Temp. [R]         42 non-null     float64\n",
      " 4   Pressure [Psi]    42 non-null     float64\n",
      " 5   Volume [ft3/lbm]  42 non-null     float64\n",
      "dtypes: float64(4), object(2)\n",
      "memory usage: 2.1+ KB\n"
     ]
    }
   ],
   "source": [
    "df.info()"
   ]
  },
  {
   "cell_type": "markdown",
   "metadata": {},
   "source": [
    "# Q1"
   ]
  },
  {
   "cell_type": "code",
   "execution_count": 10,
   "metadata": {},
   "outputs": [
    {
     "data": {
      "text/html": [
       "<div>\n",
       "<style scoped>\n",
       "    .dataframe tbody tr th:only-of-type {\n",
       "        vertical-align: middle;\n",
       "    }\n",
       "\n",
       "    .dataframe tbody tr th {\n",
       "        vertical-align: top;\n",
       "    }\n",
       "\n",
       "    .dataframe thead th {\n",
       "        text-align: right;\n",
       "    }\n",
       "</style>\n",
       "<table border=\"1\" class=\"dataframe\">\n",
       "  <thead>\n",
       "    <tr style=\"text-align: right;\">\n",
       "      <th></th>\n",
       "      <th>Molecular weight</th>\n",
       "      <th>Temp. [R]</th>\n",
       "      <th>Pressure [Psi]</th>\n",
       "      <th>Volume [ft3/lbm]</th>\n",
       "    </tr>\n",
       "  </thead>\n",
       "  <tbody>\n",
       "    <tr>\n",
       "      <th>count</th>\n",
       "      <td>42.000000</td>\n",
       "      <td>42.000000</td>\n",
       "      <td>42.000000</td>\n",
       "      <td>42.000000</td>\n",
       "    </tr>\n",
       "    <tr>\n",
       "      <th>mean</th>\n",
       "      <td>60.575643</td>\n",
       "      <td>618.802857</td>\n",
       "      <td>803.988095</td>\n",
       "      <td>0.063540</td>\n",
       "    </tr>\n",
       "    <tr>\n",
       "      <th>std</th>\n",
       "      <td>39.776981</td>\n",
       "      <td>287.575057</td>\n",
       "      <td>501.993450</td>\n",
       "      <td>0.079805</td>\n",
       "    </tr>\n",
       "    <tr>\n",
       "      <th>min</th>\n",
       "      <td>2.016000</td>\n",
       "      <td>9.340000</td>\n",
       "      <td>32.900000</td>\n",
       "      <td>0.012700</td>\n",
       "    </tr>\n",
       "    <tr>\n",
       "      <th>25%</th>\n",
       "      <td>30.022000</td>\n",
       "      <td>409.750000</td>\n",
       "      <td>536.750000</td>\n",
       "      <td>0.030875</td>\n",
       "    </tr>\n",
       "    <tr>\n",
       "      <th>50%</th>\n",
       "      <td>46.037500</td>\n",
       "      <td>660.750000</td>\n",
       "      <td>708.500000</td>\n",
       "      <td>0.047150</td>\n",
       "    </tr>\n",
       "    <tr>\n",
       "      <th>75%</th>\n",
       "      <td>85.583500</td>\n",
       "      <td>810.750000</td>\n",
       "      <td>891.000000</td>\n",
       "      <td>0.068875</td>\n",
       "    </tr>\n",
       "    <tr>\n",
       "      <th>max</th>\n",
       "      <td>159.808000</td>\n",
       "      <td>1165.100000</td>\n",
       "      <td>3208.000000</td>\n",
       "      <td>0.517000</td>\n",
       "    </tr>\n",
       "  </tbody>\n",
       "</table>\n",
       "</div>"
      ],
      "text/plain": [
       "       Molecular weight    Temp. [R]  Pressure [Psi]  Volume [ft3/lbm]\n",
       "count         42.000000    42.000000       42.000000         42.000000\n",
       "mean          60.575643   618.802857      803.988095          0.063540\n",
       "std           39.776981   287.575057      501.993450          0.079805\n",
       "min            2.016000     9.340000       32.900000          0.012700\n",
       "25%           30.022000   409.750000      536.750000          0.030875\n",
       "50%           46.037500   660.750000      708.500000          0.047150\n",
       "75%           85.583500   810.750000      891.000000          0.068875\n",
       "max          159.808000  1165.100000     3208.000000          0.517000"
      ]
     },
     "execution_count": 10,
     "metadata": {},
     "output_type": "execute_result"
    }
   ],
   "source": [
    "df.describe()"
   ]
  },
  {
   "cell_type": "code",
   "execution_count": 11,
   "metadata": {},
   "outputs": [
    {
     "data": {
      "text/html": [
       "<div>\n",
       "<style scoped>\n",
       "    .dataframe tbody tr th:only-of-type {\n",
       "        vertical-align: middle;\n",
       "    }\n",
       "\n",
       "    .dataframe tbody tr th {\n",
       "        vertical-align: top;\n",
       "    }\n",
       "\n",
       "    .dataframe thead th {\n",
       "        text-align: right;\n",
       "    }\n",
       "</style>\n",
       "<table border=\"1\" class=\"dataframe\">\n",
       "  <thead>\n",
       "    <tr style=\"text-align: right;\">\n",
       "      <th></th>\n",
       "      <th>Substance</th>\n",
       "      <th>Formula</th>\n",
       "    </tr>\n",
       "  </thead>\n",
       "  <tbody>\n",
       "    <tr>\n",
       "      <th>count</th>\n",
       "      <td>42</td>\n",
       "      <td>42</td>\n",
       "    </tr>\n",
       "    <tr>\n",
       "      <th>unique</th>\n",
       "      <td>42</td>\n",
       "      <td>41</td>\n",
       "    </tr>\n",
       "    <tr>\n",
       "      <th>top</th>\n",
       "      <td>Ammonia</td>\n",
       "      <td>C3H8</td>\n",
       "    </tr>\n",
       "    <tr>\n",
       "      <th>freq</th>\n",
       "      <td>1</td>\n",
       "      <td>2</td>\n",
       "    </tr>\n",
       "  </tbody>\n",
       "</table>\n",
       "</div>"
      ],
      "text/plain": [
       "       Substance Formula\n",
       "count         42      42\n",
       "unique        42      41\n",
       "top     Ammonia    C3H8 \n",
       "freq           1       2"
      ]
     },
     "execution_count": 11,
     "metadata": {},
     "output_type": "execute_result"
    }
   ],
   "source": [
    "df.describe(include='object')"
   ]
  },
  {
   "cell_type": "markdown",
   "metadata": {},
   "source": [
    "# Q2"
   ]
  },
  {
   "cell_type": "code",
   "execution_count": 12,
   "metadata": {},
   "outputs": [
    {
     "data": {
      "text/html": [
       "<div>\n",
       "<style scoped>\n",
       "    .dataframe tbody tr th:only-of-type {\n",
       "        vertical-align: middle;\n",
       "    }\n",
       "\n",
       "    .dataframe tbody tr th {\n",
       "        vertical-align: top;\n",
       "    }\n",
       "\n",
       "    .dataframe thead th {\n",
       "        text-align: right;\n",
       "    }\n",
       "</style>\n",
       "<table border=\"1\" class=\"dataframe\">\n",
       "  <thead>\n",
       "    <tr style=\"text-align: right;\">\n",
       "      <th></th>\n",
       "      <th>Molecular weight</th>\n",
       "      <th>Temp. [R]</th>\n",
       "      <th>Pressure [Psi]</th>\n",
       "      <th>Volume [ft3/lbm]</th>\n",
       "    </tr>\n",
       "  </thead>\n",
       "  <tbody>\n",
       "    <tr>\n",
       "      <th>Molecular weight</th>\n",
       "      <td>1.000000</td>\n",
       "      <td>0.537078</td>\n",
       "      <td>-0.105742</td>\n",
       "      <td>-0.402675</td>\n",
       "    </tr>\n",
       "    <tr>\n",
       "      <th>Temp. [R]</th>\n",
       "      <td>0.537078</td>\n",
       "      <td>1.000000</td>\n",
       "      <td>0.445113</td>\n",
       "      <td>-0.360093</td>\n",
       "    </tr>\n",
       "    <tr>\n",
       "      <th>Pressure [Psi]</th>\n",
       "      <td>-0.105742</td>\n",
       "      <td>0.445113</td>\n",
       "      <td>1.000000</td>\n",
       "      <td>-0.287710</td>\n",
       "    </tr>\n",
       "    <tr>\n",
       "      <th>Volume [ft3/lbm]</th>\n",
       "      <td>-0.402675</td>\n",
       "      <td>-0.360093</td>\n",
       "      <td>-0.287710</td>\n",
       "      <td>1.000000</td>\n",
       "    </tr>\n",
       "  </tbody>\n",
       "</table>\n",
       "</div>"
      ],
      "text/plain": [
       "                  Molecular weight  Temp. [R]  Pressure [Psi]  \\\n",
       "Molecular weight          1.000000   0.537078       -0.105742   \n",
       "Temp. [R]                 0.537078   1.000000        0.445113   \n",
       "Pressure [Psi]           -0.105742   0.445113        1.000000   \n",
       "Volume [ft3/lbm]         -0.402675  -0.360093       -0.287710   \n",
       "\n",
       "                  Volume [ft3/lbm]  \n",
       "Molecular weight         -0.402675  \n",
       "Temp. [R]                -0.360093  \n",
       "Pressure [Psi]           -0.287710  \n",
       "Volume [ft3/lbm]          1.000000  "
      ]
     },
     "execution_count": 12,
     "metadata": {},
     "output_type": "execute_result"
    }
   ],
   "source": [
    "df.corr(numeric_only=True)"
   ]
  }
 ],
 "metadata": {
  "kernelspec": {
   "display_name": "Python 3",
   "language": "python",
   "name": "python3"
  },
  "language_info": {
   "codemirror_mode": {
    "name": "ipython",
    "version": 3
   },
   "file_extension": ".py",
   "mimetype": "text/x-python",
   "name": "python",
   "nbconvert_exporter": "python",
   "pygments_lexer": "ipython3",
   "version": "3.11.0"
  }
 },
 "nbformat": 4,
 "nbformat_minor": 2
}
